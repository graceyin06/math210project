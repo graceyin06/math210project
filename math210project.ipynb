{
 "cells": [
  {
   "cell_type": "markdown",
   "metadata": {},
   "source": [
    "# MATH 210 Project 2: \n",
    "# SAN Antonio Spurs in NBA 2013~2014 Season\n",
    "### WEIJIA YIN(48450150)"
   ]
  },
  {
   "cell_type": "markdown",
   "metadata": {},
   "source": [
    "[NBA](http://www.nba.com) is the major men's professional basketball league in the world.The [SAN Antonio Spurs](https://en.wikipedia.org/wiki/San_Antonio_Spurs) is one of the strongest teams in NBA from 1976 to present. In 1997, Tim Duncan joined in Spurs and brought lots of forces to this team. In 2004, Tony Parker and Manu Genobili joined in this team and they formed the Big Three and opened their dynasty of the Spurs. In 1999,2003,2005,2007, SAN Antonio won their championships.\n",
    "\n",
    "However, in [2013](https://en.wikipedia.org/wiki/2013_NBA_Playoffs), the Spurs broke into the NBA Finals but 3-4 lost the finals regretly. It was the first time the Spurs had entered the final but lost the game in the end. In this year, Tim Duncan is 37 years old while tony Parker is 31 years old while Manu Ginobili is 36 years old. Almost everyone thought that the Spurs could not win the championship with the big three anymore; however, the Spurs reached the top of the hill again in [2013~2014 season](https://en.wikipedia.org/wiki/2014_NBA_Playoffs), with all of their efforts.\n",
    "\n",
    "This program **aims** to show the road that SAN Antonio Spurs won the champion. The problems we will solve are:\n",
    "\n",
    "1. Does the Spurs do better when he plays as a Visitor or at home in Playoffs? Plot the differences of the points between the spurs and competing team. How many games does Spurs won in playoffs when he played at home? And as Visitor? What is the average difference in playoffs?\n",
    "\n",
    "2. What is the maximum score of the Spurs get in playoffs at home and as a visitor in playoffs? What are the competing teams when they get the maximum score?\n",
    "\n",
    "3. Does the Spurs have [home advantage](https://en.wikipedia.org/wiki/Home_advantage) in the whole season? Draw a bar plot to show the score differences in regular season and playoffs. \n",
    "\n",
    "4. Draw a bar plot of the total number of games that all teams played in playoffs and make a comparsion with the Spurs' score and the Heat' score in finals. \n",
    "5. Use Youtube Video to show the winning process of the Spurs.\n",
    "\n",
    "### Summary and Conclusion\n",
    "\n",
    "1. In playoffs, the Spurs won 11 games at home and won 5 games as a visitor. The average difference of the Spurs when he plays as a visitor is **2.80** while **14.307** at home.\n",
    "\n",
    "2. When San Antonio Spurs beats **Portland Trail Blazers** as a visitor, it won the maximum score which is **118**. When San Antonio Spurs beats **Oklahoma City Thunder** as a visitor, it won the maximum score which is **122**.\n",
    "\n",
    "3. In regular season, the Spurs won **35** games at home and won **28** games as a visitor. That implies that the Spurs team reallys has a home advantage. Whether in the regular season or the playoffs, the Spurs are doing better at home.\n",
    "\n",
    "4. SAN Antonio Spurs won the championship in 2013~2014 NBA season.\n",
    "\n",
    "### Outline\n",
    "1. Introduction of the data table\n",
    "2. The road of the Spurs in 2013~2014 NBA season\n",
    "  * The Home Advantage of the Spurs in playoffs.\n",
    "  * The maximum score of the Spurs got in playoffs.\n",
    "  * The Home Advantage of the Spurs in the whole season.\n",
    "  * The Finals of 2013~2014 NBA season\n",
    "  * **SAN Antonio Spurs** won the Champion!\n"
   ]
  },
  {
   "cell_type": "code",
   "execution_count": 2,
   "metadata": {},
   "outputs": [],
   "source": [
    "import pandas as pd\n",
    "import pandas as pd\n",
    "import matplotlib.pyplot as plt\n",
    "%matplotlib inline"
   ]
  },
  {
   "cell_type": "markdown",
   "metadata": {},
   "source": [
    "### Introduction\n",
    "The [2013~2014 NBA Schedule and Results](http://www.basketball-reference.com/leagues/NBA_2014_games.html) dataset comes from [Basketabll Reference](http://www.basketball-reference.com). It is a summary of the schedule and results of 30 teams(15 eastern teams and 15 western teams) in National Basketball Association in 2013~2014 season. This data table includes the data of both regular season and playoffs."
   ]
  },
  {
   "cell_type": "code",
   "execution_count": 21,
   "metadata": {},
   "outputs": [],
   "source": [
    "data = pd.read_csv(\"nba.csv\",encoding='latin')"
   ]
  },
  {
   "cell_type": "code",
   "execution_count": 22,
   "metadata": {},
   "outputs": [
    {
     "data": {
      "text/html": [
       "<div>\n",
       "<table border=\"1\" class=\"dataframe\">\n",
       "  <thead>\n",
       "    <tr style=\"text-align: right;\">\n",
       "      <th></th>\n",
       "      <th>Date</th>\n",
       "      <th>Start (ET)</th>\n",
       "      <th>Visitor/Neutral</th>\n",
       "      <th>PTS</th>\n",
       "      <th>Home/Neutral</th>\n",
       "      <th>PTS.1</th>\n",
       "      <th>x</th>\n",
       "      <th>y</th>\n",
       "      <th>Notes</th>\n",
       "    </tr>\n",
       "  </thead>\n",
       "  <tbody>\n",
       "    <tr>\n",
       "      <th>0</th>\n",
       "      <td>Tue Oct 29 2013</td>\n",
       "      <td>7:00 pm</td>\n",
       "      <td>Orlando Magic</td>\n",
       "      <td>87</td>\n",
       "      <td>Indiana Pacers</td>\n",
       "      <td>97</td>\n",
       "      <td>Box Score</td>\n",
       "      <td>NaN</td>\n",
       "      <td>NaN</td>\n",
       "    </tr>\n",
       "    <tr>\n",
       "      <th>1</th>\n",
       "      <td>Tue Oct 29 2013</td>\n",
       "      <td>10:30 pm</td>\n",
       "      <td>Los Angeles Clippers</td>\n",
       "      <td>103</td>\n",
       "      <td>Los Angeles Lakers</td>\n",
       "      <td>116</td>\n",
       "      <td>Box Score</td>\n",
       "      <td>NaN</td>\n",
       "      <td>NaN</td>\n",
       "    </tr>\n",
       "    <tr>\n",
       "      <th>2</th>\n",
       "      <td>Tue Oct 29 2013</td>\n",
       "      <td>8:00 pm</td>\n",
       "      <td>Chicago Bulls</td>\n",
       "      <td>95</td>\n",
       "      <td>Miami Heat</td>\n",
       "      <td>107</td>\n",
       "      <td>Box Score</td>\n",
       "      <td>NaN</td>\n",
       "      <td>NaN</td>\n",
       "    </tr>\n",
       "    <tr>\n",
       "      <th>3</th>\n",
       "      <td>Wed Oct 30 2013</td>\n",
       "      <td>7:00 pm</td>\n",
       "      <td>Brooklyn Nets</td>\n",
       "      <td>94</td>\n",
       "      <td>Cleveland Cavaliers</td>\n",
       "      <td>98</td>\n",
       "      <td>Box Score</td>\n",
       "      <td>NaN</td>\n",
       "      <td>NaN</td>\n",
       "    </tr>\n",
       "    <tr>\n",
       "      <th>4</th>\n",
       "      <td>Wed Oct 30 2013</td>\n",
       "      <td>8:30 pm</td>\n",
       "      <td>Atlanta Hawks</td>\n",
       "      <td>109</td>\n",
       "      <td>Dallas Mavericks</td>\n",
       "      <td>118</td>\n",
       "      <td>Box Score</td>\n",
       "      <td>NaN</td>\n",
       "      <td>NaN</td>\n",
       "    </tr>\n",
       "  </tbody>\n",
       "</table>\n",
       "</div>"
      ],
      "text/plain": [
       "              Date Start (ET)       Visitor/Neutral  PTS         Home/Neutral  \\\n",
       "0  Tue Oct 29 2013    7:00 pm         Orlando Magic   87       Indiana Pacers   \n",
       "1  Tue Oct 29 2013   10:30 pm  Los Angeles Clippers  103   Los Angeles Lakers   \n",
       "2  Tue Oct 29 2013    8:00 pm         Chicago Bulls   95           Miami Heat   \n",
       "3  Wed Oct 30 2013    7:00 pm         Brooklyn Nets   94  Cleveland Cavaliers   \n",
       "4  Wed Oct 30 2013    8:30 pm         Atlanta Hawks  109     Dallas Mavericks   \n",
       "\n",
       "   PTS.1          x    y Notes  \n",
       "0     97  Box Score  NaN   NaN  \n",
       "1    116  Box Score  NaN   NaN  \n",
       "2    107  Box Score  NaN   NaN  \n",
       "3     98  Box Score  NaN   NaN  \n",
       "4    118  Box Score  NaN   NaN  "
      ]
     },
     "execution_count": 22,
     "metadata": {},
     "output_type": "execute_result"
    }
   ],
   "source": [
    "data.head()"
   ]
  },
  {
   "cell_type": "code",
   "execution_count": 23,
   "metadata": {},
   "outputs": [
    {
     "name": "stdout",
     "output_type": "stream",
     "text": [
      "<class 'pandas.core.frame.DataFrame'>\n",
      "RangeIndex: 1319 entries, 0 to 1318\n",
      "Data columns (total 9 columns):\n",
      "Date               1319 non-null object\n",
      "Start (ET)         1319 non-null object\n",
      "Visitor/Neutral    1319 non-null object\n",
      "PTS                1319 non-null int64\n",
      "Home/Neutral       1319 non-null object\n",
      "PTS.1              1319 non-null int64\n",
      "x                  1319 non-null object\n",
      "y                  88 non-null object\n",
      "Notes              1 non-null object\n",
      "dtypes: int64(2), object(7)\n",
      "memory usage: 92.8+ KB\n"
     ]
    }
   ],
   "source": [
    "data.info()"
   ]
  },
  {
   "cell_type": "code",
   "execution_count": 24,
   "metadata": {},
   "outputs": [
    {
     "data": {
      "text/html": [
       "<div>\n",
       "<table border=\"1\" class=\"dataframe\">\n",
       "  <thead>\n",
       "    <tr style=\"text-align: right;\">\n",
       "      <th></th>\n",
       "      <th>Date</th>\n",
       "      <th>Start (ET)</th>\n",
       "      <th>Visitor/Neutral</th>\n",
       "      <th>PTS</th>\n",
       "      <th>Home/Neutral</th>\n",
       "      <th>PTS.1</th>\n",
       "      <th>x</th>\n",
       "      <th>y</th>\n",
       "      <th>Notes</th>\n",
       "    </tr>\n",
       "  </thead>\n",
       "  <tbody>\n",
       "    <tr>\n",
       "      <th>1314</th>\n",
       "      <td>Thu Jun 5 2014</td>\n",
       "      <td>9:00 pm</td>\n",
       "      <td>Miami Heat</td>\n",
       "      <td>95</td>\n",
       "      <td>San Antonio Spurs</td>\n",
       "      <td>110</td>\n",
       "      <td>Box Score</td>\n",
       "      <td>NaN</td>\n",
       "      <td>NaN</td>\n",
       "    </tr>\n",
       "    <tr>\n",
       "      <th>1315</th>\n",
       "      <td>Sun Jun 8 2014</td>\n",
       "      <td>8:00 pm</td>\n",
       "      <td>Miami Heat</td>\n",
       "      <td>98</td>\n",
       "      <td>San Antonio Spurs</td>\n",
       "      <td>96</td>\n",
       "      <td>Box Score</td>\n",
       "      <td>NaN</td>\n",
       "      <td>NaN</td>\n",
       "    </tr>\n",
       "    <tr>\n",
       "      <th>1316</th>\n",
       "      <td>Tue Jun 10 2014</td>\n",
       "      <td>9:00 pm</td>\n",
       "      <td>San Antonio Spurs</td>\n",
       "      <td>111</td>\n",
       "      <td>Miami Heat</td>\n",
       "      <td>92</td>\n",
       "      <td>Box Score</td>\n",
       "      <td>NaN</td>\n",
       "      <td>NaN</td>\n",
       "    </tr>\n",
       "    <tr>\n",
       "      <th>1317</th>\n",
       "      <td>Thu Jun 12 2014</td>\n",
       "      <td>9:00 pm</td>\n",
       "      <td>San Antonio Spurs</td>\n",
       "      <td>107</td>\n",
       "      <td>Miami Heat</td>\n",
       "      <td>86</td>\n",
       "      <td>Box Score</td>\n",
       "      <td>NaN</td>\n",
       "      <td>NaN</td>\n",
       "    </tr>\n",
       "    <tr>\n",
       "      <th>1318</th>\n",
       "      <td>Sun Jun 15 2014</td>\n",
       "      <td>8:00 pm</td>\n",
       "      <td>Miami Heat</td>\n",
       "      <td>87</td>\n",
       "      <td>San Antonio Spurs</td>\n",
       "      <td>104</td>\n",
       "      <td>Box Score</td>\n",
       "      <td>NaN</td>\n",
       "      <td>NaN</td>\n",
       "    </tr>\n",
       "  </tbody>\n",
       "</table>\n",
       "</div>"
      ],
      "text/plain": [
       "                 Date Start (ET)    Visitor/Neutral  PTS       Home/Neutral  \\\n",
       "1314   Thu Jun 5 2014    9:00 pm         Miami Heat   95  San Antonio Spurs   \n",
       "1315   Sun Jun 8 2014    8:00 pm         Miami Heat   98  San Antonio Spurs   \n",
       "1316  Tue Jun 10 2014    9:00 pm  San Antonio Spurs  111         Miami Heat   \n",
       "1317  Thu Jun 12 2014    9:00 pm  San Antonio Spurs  107         Miami Heat   \n",
       "1318  Sun Jun 15 2014    8:00 pm         Miami Heat   87  San Antonio Spurs   \n",
       "\n",
       "      PTS.1          x    y Notes  \n",
       "1314    110  Box Score  NaN   NaN  \n",
       "1315     96  Box Score  NaN   NaN  \n",
       "1316     92  Box Score  NaN   NaN  \n",
       "1317     86  Box Score  NaN   NaN  \n",
       "1318    104  Box Score  NaN   NaN  "
      ]
     },
     "execution_count": 24,
     "metadata": {},
     "output_type": "execute_result"
    }
   ],
   "source": [
    "data.tail()"
   ]
  },
  {
   "cell_type": "markdown",
   "metadata": {},
   "source": [
    "There are 1319 rows and 9 columns of the data table. Each row shows one game in a specific date and played by two different teams. The explanation of each column is as follows:\n",
    "  * **Date**: The date that \"Week,Month,Day,Year\" that when the game held.\n",
    "  * **Start(ET)** : The time that the game starts. On different days or on some special holidays, the time that the game starts is different.\n",
    "  * **Vistor/Neutral**: The column of \"Visitor/Netural\" shows the team that goes to competiting team'home to play the game.\n",
    "  * **PTS**: The score of the team that goes to competiting team'home got.\n",
    "  * **Home/Netural**: The team that the game plays at home. For instance, San Antonio Spurs' home is at [AT&T Center](http://www.attcenter.com). The Los Angeles Lakers'home is at STAPLES Center.\n",
    "  * **PTS.1**: The score of the team that plays at home.\n",
    "\n"
   ]
  },
  {
   "cell_type": "markdown",
   "metadata": {},
   "source": [
    "### Construct the dataset of playoffs\n",
    "\n",
    "Since we need to analyze the data of plyoffs of Spurs team, we only select the data of plyoffs in 2013~2014 NBA season. Also, we do not use the \"x\",\"y\" and \"Notes\" columns in this project, so we clean the three columns of the data."
   ]
  },
  {
   "cell_type": "code",
   "execution_count": 48,
   "metadata": {},
   "outputs": [
    {
     "name": "stderr",
     "output_type": "stream",
     "text": [
      "/anaconda/lib/python3.6/site-packages/ipykernel/__main__.py:2: SettingWithCopyWarning: \n",
      "A value is trying to be set on a copy of a slice from a DataFrame\n",
      "\n",
      "See the caveats in the documentation: http://pandas.pydata.org/pandas-docs/stable/indexing.html#indexing-view-versus-copy\n",
      "  from ipykernel import kernelapp as app\n"
     ]
    },
    {
     "data": {
      "text/html": [
       "<div>\n",
       "<table border=\"1\" class=\"dataframe\">\n",
       "  <thead>\n",
       "    <tr style=\"text-align: right;\">\n",
       "      <th></th>\n",
       "      <th>Date</th>\n",
       "      <th>Start (ET)</th>\n",
       "      <th>Visitor/Neutral</th>\n",
       "      <th>PTS</th>\n",
       "      <th>Home/Neutral</th>\n",
       "      <th>PTS.1</th>\n",
       "    </tr>\n",
       "  </thead>\n",
       "  <tbody>\n",
       "    <tr>\n",
       "      <th>1232</th>\n",
       "      <td>Sat Apr 19 2014</td>\n",
       "      <td>9:43 pm</td>\n",
       "      <td>Memphis Grizzlies</td>\n",
       "      <td>86</td>\n",
       "      <td>Oklahoma City Thunder</td>\n",
       "      <td>100</td>\n",
       "    </tr>\n",
       "    <tr>\n",
       "      <th>1233</th>\n",
       "      <td>Sat Apr 19 2014</td>\n",
       "      <td>12:30 am</td>\n",
       "      <td>Brooklyn Nets</td>\n",
       "      <td>94</td>\n",
       "      <td>Toronto Raptors</td>\n",
       "      <td>87</td>\n",
       "    </tr>\n",
       "    <tr>\n",
       "      <th>1234</th>\n",
       "      <td>Sun Apr 20 2014</td>\n",
       "      <td>7:00 pm</td>\n",
       "      <td>Washington Wizards</td>\n",
       "      <td>102</td>\n",
       "      <td>Chicago Bulls</td>\n",
       "      <td>93</td>\n",
       "    </tr>\n",
       "    <tr>\n",
       "      <th>1235</th>\n",
       "      <td>Sun Apr 20 2014</td>\n",
       "      <td>9:30 pm</td>\n",
       "      <td>Portland Trail Blazers</td>\n",
       "      <td>122</td>\n",
       "      <td>Houston Rockets</td>\n",
       "      <td>120</td>\n",
       "    </tr>\n",
       "    <tr>\n",
       "      <th>1236</th>\n",
       "      <td>Sun Apr 20 2014</td>\n",
       "      <td>3:30 pm</td>\n",
       "      <td>Charlotte Bobcats</td>\n",
       "      <td>88</td>\n",
       "      <td>Miami Heat</td>\n",
       "      <td>99</td>\n",
       "    </tr>\n",
       "  </tbody>\n",
       "</table>\n",
       "</div>"
      ],
      "text/plain": [
       "                 Date Start (ET)         Visitor/Neutral  PTS  \\\n",
       "1232  Sat Apr 19 2014    9:43 pm       Memphis Grizzlies   86   \n",
       "1233  Sat Apr 19 2014   12:30 am           Brooklyn Nets   94   \n",
       "1234  Sun Apr 20 2014    7:00 pm      Washington Wizards  102   \n",
       "1235  Sun Apr 20 2014    9:30 pm  Portland Trail Blazers  122   \n",
       "1236  Sun Apr 20 2014    3:30 pm       Charlotte Bobcats   88   \n",
       "\n",
       "               Home/Neutral  PTS.1  \n",
       "1232  Oklahoma City Thunder    100  \n",
       "1233        Toronto Raptors     87  \n",
       "1234          Chicago Bulls     93  \n",
       "1235        Houston Rockets    120  \n",
       "1236             Miami Heat     99  "
      ]
     },
     "execution_count": 48,
     "metadata": {},
     "output_type": "execute_result"
    }
   ],
   "source": [
    "Playoffs=data[1232:1320]\n",
    "Playoffs.drop(['x','y','Notes'],axis=1,inplace=True)\n",
    "Playoffs.head()"
   ]
  },
  {
   "cell_type": "markdown",
   "metadata": {},
   "source": [
    "### 2. The Home Advantage of the Spurs in playoffs."
   ]
  },
  {
   "cell_type": "markdown",
   "metadata": {},
   "source": [
    "Select all the games in playoffs for San Antonio Spurs.\n"
   ]
  },
  {
   "cell_type": "code",
   "execution_count": 49,
   "metadata": {},
   "outputs": [
    {
     "ename": "TypeError",
     "evalue": "'method' object is not subscriptable",
     "output_type": "error",
     "traceback": [
      "\u001b[0;31m---------------------------------------------------------------------------\u001b[0m",
      "\u001b[0;31mTypeError\u001b[0m                                 Traceback (most recent call last)",
      "\u001b[0;32m<ipython-input-49-34b7b74374db>\u001b[0m in \u001b[0;36m<module>\u001b[0;34m()\u001b[0m\n\u001b[1;32m      1\u001b[0m \u001b[0mSAN_V\u001b[0m\u001b[0;34m=\u001b[0m\u001b[0mPlayoffs\u001b[0m\u001b[0;34m[\u001b[0m\u001b[0mPlayoffs\u001b[0m\u001b[0;34m[\u001b[0m\u001b[0;34m'Visitor/Neutral'\u001b[0m\u001b[0;34m]\u001b[0m \u001b[0;34m==\u001b[0m \u001b[0;34m'San Antonio Spurs'\u001b[0m\u001b[0;34m]\u001b[0m\u001b[0;34m\u001b[0m\u001b[0;34m\u001b[0m\u001b[0m\n\u001b[1;32m      2\u001b[0m \u001b[0mSAN_H\u001b[0m\u001b[0;34m=\u001b[0m\u001b[0mPlayoffs\u001b[0m\u001b[0;34m[\u001b[0m\u001b[0mPlayoffs\u001b[0m\u001b[0;34m[\u001b[0m\u001b[0;34m'Home/Neutral'\u001b[0m\u001b[0;34m]\u001b[0m \u001b[0;34m==\u001b[0m \u001b[0;34m'San Antonio Spurs'\u001b[0m\u001b[0;34m]\u001b[0m\u001b[0;34m\u001b[0m\u001b[0;34m\u001b[0m\u001b[0m\n\u001b[0;32m----> 3\u001b[0;31m \u001b[0mSAN\u001b[0m\u001b[0;34m=\u001b[0m\u001b[0mSAN_V\u001b[0m\u001b[0;34m.\u001b[0m\u001b[0mappend\u001b[0m\u001b[0;34m[\u001b[0m\u001b[0mSAN_H\u001b[0m\u001b[0;34m]\u001b[0m\u001b[0;34m\u001b[0m\u001b[0;34m\u001b[0m\u001b[0m\n\u001b[0m\u001b[1;32m      4\u001b[0m \u001b[0mSAN\u001b[0m\u001b[0;34m\u001b[0m\u001b[0;34m\u001b[0m\u001b[0m\n",
      "\u001b[0;31mTypeError\u001b[0m: 'method' object is not subscriptable"
     ]
    }
   ],
   "source": [
    "SAN_V=Playoffs[Playoffs['Visitor/Neutral'] == 'San Antonio Spurs']\n",
    "SAN_H=Playoffs[Playoffs['Home/Neutral'] == 'San Antonio Spurs']\n",
    "SAN=SAN_V.append[SAN_H]\n",
    "SAN"
   ]
  },
  {
   "cell_type": "code",
   "execution_count": 26,
   "metadata": {},
   "outputs": [],
   "source": [
    "SAN_V=Playoffs[Playoffs['Visitor/Neutral'] == 'San Antonio Spurs']\n",
    "SAN_H=Playoffs[Playoffs['Home/Neutral'] == 'San Antonio Spurs']"
   ]
  },
  {
   "cell_type": "code",
   "execution_count": 27,
   "metadata": {},
   "outputs": [],
   "source": [
    "SAN_V=SAN_V.copy()\n",
    "SAN_H=SAN_H.copy()"
   ]
  },
  {
   "cell_type": "code",
   "execution_count": 28,
   "metadata": {},
   "outputs": [
    {
     "data": {
      "text/html": [
       "<div>\n",
       "<table border=\"1\" class=\"dataframe\">\n",
       "  <thead>\n",
       "    <tr style=\"text-align: right;\">\n",
       "      <th></th>\n",
       "      <th>Date</th>\n",
       "      <th>Start (ET)</th>\n",
       "      <th>Visitor/Neutral</th>\n",
       "      <th>PTS</th>\n",
       "      <th>Home/Neutral</th>\n",
       "      <th>PTS.1</th>\n",
       "    </tr>\n",
       "  </thead>\n",
       "  <tbody>\n",
       "    <tr>\n",
       "      <th>1254</th>\n",
       "      <td>Sat Apr 26 2014</td>\n",
       "      <td>4:30 pm</td>\n",
       "      <td>San Antonio Spurs</td>\n",
       "      <td>108</td>\n",
       "      <td>Dallas Mavericks</td>\n",
       "      <td>109</td>\n",
       "    </tr>\n",
       "    <tr>\n",
       "      <th>1261</th>\n",
       "      <td>Mon Apr 28 2014</td>\n",
       "      <td>9:30 pm</td>\n",
       "      <td>San Antonio Spurs</td>\n",
       "      <td>93</td>\n",
       "      <td>Dallas Mavericks</td>\n",
       "      <td>89</td>\n",
       "    </tr>\n",
       "    <tr>\n",
       "      <th>1273</th>\n",
       "      <td>Fri May 2 2014</td>\n",
       "      <td>8:00 pm</td>\n",
       "      <td>San Antonio Spurs</td>\n",
       "      <td>111</td>\n",
       "      <td>Dallas Mavericks</td>\n",
       "      <td>113</td>\n",
       "    </tr>\n",
       "    <tr>\n",
       "      <th>1291</th>\n",
       "      <td>Sat May 10 2014</td>\n",
       "      <td>10:30 pm</td>\n",
       "      <td>San Antonio Spurs</td>\n",
       "      <td>118</td>\n",
       "      <td>Portland Trail Blazers</td>\n",
       "      <td>103</td>\n",
       "    </tr>\n",
       "    <tr>\n",
       "      <th>1295</th>\n",
       "      <td>Mon May 12 2014</td>\n",
       "      <td>10:30 pm</td>\n",
       "      <td>San Antonio Spurs</td>\n",
       "      <td>92</td>\n",
       "      <td>Portland Trail Blazers</td>\n",
       "      <td>103</td>\n",
       "    </tr>\n",
       "    <tr>\n",
       "      <th>1307</th>\n",
       "      <td>Sun May 25 2014</td>\n",
       "      <td>8:30 pm</td>\n",
       "      <td>San Antonio Spurs</td>\n",
       "      <td>97</td>\n",
       "      <td>Oklahoma City Thunder</td>\n",
       "      <td>106</td>\n",
       "    </tr>\n",
       "    <tr>\n",
       "      <th>1309</th>\n",
       "      <td>Tue May 27 2014</td>\n",
       "      <td>9:00 pm</td>\n",
       "      <td>San Antonio Spurs</td>\n",
       "      <td>92</td>\n",
       "      <td>Oklahoma City Thunder</td>\n",
       "      <td>105</td>\n",
       "    </tr>\n",
       "    <tr>\n",
       "      <th>1313</th>\n",
       "      <td>Sat May 31 2014</td>\n",
       "      <td>8:30 pm</td>\n",
       "      <td>San Antonio Spurs</td>\n",
       "      <td>112</td>\n",
       "      <td>Oklahoma City Thunder</td>\n",
       "      <td>107</td>\n",
       "    </tr>\n",
       "    <tr>\n",
       "      <th>1316</th>\n",
       "      <td>Tue Jun 10 2014</td>\n",
       "      <td>9:00 pm</td>\n",
       "      <td>San Antonio Spurs</td>\n",
       "      <td>111</td>\n",
       "      <td>Miami Heat</td>\n",
       "      <td>92</td>\n",
       "    </tr>\n",
       "    <tr>\n",
       "      <th>1317</th>\n",
       "      <td>Thu Jun 12 2014</td>\n",
       "      <td>9:00 pm</td>\n",
       "      <td>San Antonio Spurs</td>\n",
       "      <td>107</td>\n",
       "      <td>Miami Heat</td>\n",
       "      <td>86</td>\n",
       "    </tr>\n",
       "  </tbody>\n",
       "</table>\n",
       "</div>"
      ],
      "text/plain": [
       "                 Date Start (ET)    Visitor/Neutral  PTS  \\\n",
       "1254  Sat Apr 26 2014    4:30 pm  San Antonio Spurs  108   \n",
       "1261  Mon Apr 28 2014    9:30 pm  San Antonio Spurs   93   \n",
       "1273   Fri May 2 2014    8:00 pm  San Antonio Spurs  111   \n",
       "1291  Sat May 10 2014   10:30 pm  San Antonio Spurs  118   \n",
       "1295  Mon May 12 2014   10:30 pm  San Antonio Spurs   92   \n",
       "1307  Sun May 25 2014    8:30 pm  San Antonio Spurs   97   \n",
       "1309  Tue May 27 2014    9:00 pm  San Antonio Spurs   92   \n",
       "1313  Sat May 31 2014    8:30 pm  San Antonio Spurs  112   \n",
       "1316  Tue Jun 10 2014    9:00 pm  San Antonio Spurs  111   \n",
       "1317  Thu Jun 12 2014    9:00 pm  San Antonio Spurs  107   \n",
       "\n",
       "                Home/Neutral  PTS.1  \n",
       "1254        Dallas Mavericks    109  \n",
       "1261        Dallas Mavericks     89  \n",
       "1273        Dallas Mavericks    113  \n",
       "1291  Portland Trail Blazers    103  \n",
       "1295  Portland Trail Blazers    103  \n",
       "1307   Oklahoma City Thunder    106  \n",
       "1309   Oklahoma City Thunder    105  \n",
       "1313   Oklahoma City Thunder    107  \n",
       "1316              Miami Heat     92  \n",
       "1317              Miami Heat     86  "
      ]
     },
     "execution_count": 28,
     "metadata": {},
     "output_type": "execute_result"
    }
   ],
   "source": [
    "SAN_V"
   ]
  },
  {
   "cell_type": "markdown",
   "metadata": {},
   "source": [
    "Calculate the point differences of Spurs with its competing teams when spurs is a visitor team and home team"
   ]
  },
  {
   "cell_type": "code",
   "execution_count": 29,
   "metadata": {
    "scrolled": true
   },
   "outputs": [],
   "source": [
    "SAN_V['Diff'] = SAN_V.apply(lambda row : row['PTS'] - row['PTS.1'],axis=1)\n",
    "SAN_H['Diff'] = SAN_H.apply(lambda row : row['PTS.1'] - row['PTS'],axis=1)"
   ]
  },
  {
   "cell_type": "markdown",
   "metadata": {},
   "source": [
    "Construct the datafram that Spurs win the playoffs as a visitor team and home team."
   ]
  },
  {
   "cell_type": "code",
   "execution_count": 42,
   "metadata": {},
   "outputs": [
    {
     "data": {
      "text/html": [
       "<div>\n",
       "<table border=\"1\" class=\"dataframe\">\n",
       "  <thead>\n",
       "    <tr style=\"text-align: right;\">\n",
       "      <th></th>\n",
       "      <th>Visitor/Neutral</th>\n",
       "      <th>PTS</th>\n",
       "      <th>Home/Neutral</th>\n",
       "      <th>PTS.1</th>\n",
       "      <th>Diff</th>\n",
       "    </tr>\n",
       "  </thead>\n",
       "  <tbody>\n",
       "    <tr>\n",
       "      <th>1261</th>\n",
       "      <td>San Antonio Spurs</td>\n",
       "      <td>93</td>\n",
       "      <td>Dallas Mavericks</td>\n",
       "      <td>89</td>\n",
       "      <td>4</td>\n",
       "    </tr>\n",
       "    <tr>\n",
       "      <th>1291</th>\n",
       "      <td>San Antonio Spurs</td>\n",
       "      <td>118</td>\n",
       "      <td>Portland Trail Blazers</td>\n",
       "      <td>103</td>\n",
       "      <td>15</td>\n",
       "    </tr>\n",
       "    <tr>\n",
       "      <th>1313</th>\n",
       "      <td>San Antonio Spurs</td>\n",
       "      <td>112</td>\n",
       "      <td>Oklahoma City Thunder</td>\n",
       "      <td>107</td>\n",
       "      <td>5</td>\n",
       "    </tr>\n",
       "    <tr>\n",
       "      <th>1316</th>\n",
       "      <td>San Antonio Spurs</td>\n",
       "      <td>111</td>\n",
       "      <td>Miami Heat</td>\n",
       "      <td>92</td>\n",
       "      <td>19</td>\n",
       "    </tr>\n",
       "    <tr>\n",
       "      <th>1317</th>\n",
       "      <td>San Antonio Spurs</td>\n",
       "      <td>107</td>\n",
       "      <td>Miami Heat</td>\n",
       "      <td>86</td>\n",
       "      <td>21</td>\n",
       "    </tr>\n",
       "  </tbody>\n",
       "</table>\n",
       "</div>"
      ],
      "text/plain": [
       "        Visitor/Neutral  PTS            Home/Neutral  PTS.1  Diff\n",
       "1261  San Antonio Spurs   93        Dallas Mavericks     89     4\n",
       "1291  San Antonio Spurs  118  Portland Trail Blazers    103    15\n",
       "1313  San Antonio Spurs  112   Oklahoma City Thunder    107     5\n",
       "1316  San Antonio Spurs  111              Miami Heat     92    19\n",
       "1317  San Antonio Spurs  107              Miami Heat     86    21"
      ]
     },
     "execution_count": 42,
     "metadata": {},
     "output_type": "execute_result"
    }
   ],
   "source": [
    "boolster=SAN_V['Diff']>0\n",
    "result=SAN_V[boolster]\n",
    "mycols=['Visitor/Neutral','PTS','Home/Neutral','PTS.1','Diff']\n",
    "result[mycols]"
   ]
  },
  {
   "cell_type": "code",
   "execution_count": 43,
   "metadata": {},
   "outputs": [
    {
     "data": {
      "text/html": [
       "<div>\n",
       "<table border=\"1\" class=\"dataframe\">\n",
       "  <thead>\n",
       "    <tr style=\"text-align: right;\">\n",
       "      <th></th>\n",
       "      <th>Visitor/Neutral</th>\n",
       "      <th>PTS</th>\n",
       "      <th>Home/Neutral</th>\n",
       "      <th>PTS.1</th>\n",
       "      <th>Diff</th>\n",
       "    </tr>\n",
       "  </thead>\n",
       "  <tbody>\n",
       "    <tr>\n",
       "      <th>1237</th>\n",
       "      <td>Dallas Mavericks</td>\n",
       "      <td>85</td>\n",
       "      <td>San Antonio Spurs</td>\n",
       "      <td>90</td>\n",
       "      <td>5</td>\n",
       "    </tr>\n",
       "    <tr>\n",
       "      <th>1267</th>\n",
       "      <td>Dallas Mavericks</td>\n",
       "      <td>103</td>\n",
       "      <td>San Antonio Spurs</td>\n",
       "      <td>109</td>\n",
       "      <td>6</td>\n",
       "    </tr>\n",
       "    <tr>\n",
       "      <th>1278</th>\n",
       "      <td>Dallas Mavericks</td>\n",
       "      <td>96</td>\n",
       "      <td>San Antonio Spurs</td>\n",
       "      <td>119</td>\n",
       "      <td>23</td>\n",
       "    </tr>\n",
       "    <tr>\n",
       "      <th>1283</th>\n",
       "      <td>Portland Trail Blazers</td>\n",
       "      <td>92</td>\n",
       "      <td>San Antonio Spurs</td>\n",
       "      <td>116</td>\n",
       "      <td>24</td>\n",
       "    </tr>\n",
       "    <tr>\n",
       "      <th>1287</th>\n",
       "      <td>Portland Trail Blazers</td>\n",
       "      <td>97</td>\n",
       "      <td>San Antonio Spurs</td>\n",
       "      <td>114</td>\n",
       "      <td>17</td>\n",
       "    </tr>\n",
       "    <tr>\n",
       "      <th>1299</th>\n",
       "      <td>Portland Trail Blazers</td>\n",
       "      <td>82</td>\n",
       "      <td>San Antonio Spurs</td>\n",
       "      <td>104</td>\n",
       "      <td>22</td>\n",
       "    </tr>\n",
       "    <tr>\n",
       "      <th>1303</th>\n",
       "      <td>Oklahoma City Thunder</td>\n",
       "      <td>105</td>\n",
       "      <td>San Antonio Spurs</td>\n",
       "      <td>122</td>\n",
       "      <td>17</td>\n",
       "    </tr>\n",
       "    <tr>\n",
       "      <th>1305</th>\n",
       "      <td>Oklahoma City Thunder</td>\n",
       "      <td>77</td>\n",
       "      <td>San Antonio Spurs</td>\n",
       "      <td>112</td>\n",
       "      <td>35</td>\n",
       "    </tr>\n",
       "    <tr>\n",
       "      <th>1311</th>\n",
       "      <td>Oklahoma City Thunder</td>\n",
       "      <td>89</td>\n",
       "      <td>San Antonio Spurs</td>\n",
       "      <td>117</td>\n",
       "      <td>28</td>\n",
       "    </tr>\n",
       "    <tr>\n",
       "      <th>1314</th>\n",
       "      <td>Miami Heat</td>\n",
       "      <td>95</td>\n",
       "      <td>San Antonio Spurs</td>\n",
       "      <td>110</td>\n",
       "      <td>15</td>\n",
       "    </tr>\n",
       "    <tr>\n",
       "      <th>1318</th>\n",
       "      <td>Miami Heat</td>\n",
       "      <td>87</td>\n",
       "      <td>San Antonio Spurs</td>\n",
       "      <td>104</td>\n",
       "      <td>17</td>\n",
       "    </tr>\n",
       "  </tbody>\n",
       "</table>\n",
       "</div>"
      ],
      "text/plain": [
       "             Visitor/Neutral  PTS       Home/Neutral  PTS.1  Diff\n",
       "1237        Dallas Mavericks   85  San Antonio Spurs     90     5\n",
       "1267        Dallas Mavericks  103  San Antonio Spurs    109     6\n",
       "1278        Dallas Mavericks   96  San Antonio Spurs    119    23\n",
       "1283  Portland Trail Blazers   92  San Antonio Spurs    116    24\n",
       "1287  Portland Trail Blazers   97  San Antonio Spurs    114    17\n",
       "1299  Portland Trail Blazers   82  San Antonio Spurs    104    22\n",
       "1303   Oklahoma City Thunder  105  San Antonio Spurs    122    17\n",
       "1305   Oklahoma City Thunder   77  San Antonio Spurs    112    35\n",
       "1311   Oklahoma City Thunder   89  San Antonio Spurs    117    28\n",
       "1314              Miami Heat   95  San Antonio Spurs    110    15\n",
       "1318              Miami Heat   87  San Antonio Spurs    104    17"
      ]
     },
     "execution_count": 43,
     "metadata": {},
     "output_type": "execute_result"
    }
   ],
   "source": [
    "boolster2=SAN_H['Diff']>0\n",
    "result2=SAN_H[boolster2]\n",
    "result2[mycols]"
   ]
  },
  {
   "cell_type": "code",
   "execution_count": 13,
   "metadata": {},
   "outputs": [
    {
     "data": {
      "text/plain": [
       "<matplotlib.axes._subplots.AxesSubplot at 0x117f18278>"
      ]
     },
     "execution_count": 13,
     "metadata": {},
     "output_type": "execute_result"
    },
    {
     "data": {
      "image/png": "[encoded data removed]",
      "text/plain": [
       "<matplotlib.figure.Figure at 0x117e3db38>"
      ]
     },
     "metadata": {
      "needs_background": "light"
     },
     "output_type": "display_data"
    }
   ],
   "source": [
    "SAN_V['Diff'].plot(figsize=(10,5),label='Visitor',c='r'),\n",
    "SAN_H['Diff'].plot(figsize=(10,5),label='Home',c='y',title='Plot of Home and Visitor')"
   ]
  },
  {
   "cell_type": "markdown",
   "metadata": {},
   "source": [
    "Calculate the average of differences in playoffs when the Spurs play at home and as a visitor."
   ]
  },
  {
   "cell_type": "code",
   "execution_count": 14,
   "metadata": {},
   "outputs": [
    {
     "data": {
      "text/plain": [
       "2.8"
      ]
     },
     "execution_count": 14,
     "metadata": {},
     "output_type": "execute_result"
    }
   ],
   "source": [
    "SAN_V['Diff'].mean()"
   ]
  },
  {
   "cell_type": "code",
   "execution_count": 15,
   "metadata": {},
   "outputs": [
    {
     "data": {
      "text/plain": [
       "14.307692307692308"
      ]
     },
     "execution_count": 15,
     "metadata": {},
     "output_type": "execute_result"
    }
   ],
   "source": [
    "SAN_H['Diff'].mean()"
   ]
  },
  {
   "cell_type": "markdown",
   "metadata": {},
   "source": [
    "From the plot we can see that when the Spurs plays at home, the differences of points are larger than that of visitors most of the time. Also, most of the differences at home are above 0. The fact that the difference is bigger than 0 means that the spurs win the game. The average difference of the Spurs when he plays as a visitor is **2.80** while that of he play at home is **14.307**.\n",
    "\n",
    "Then we calculate the total number of the games that the spurs win in playoffs."
   ]
  },
  {
   "cell_type": "code",
   "execution_count": 16,
   "metadata": {},
   "outputs": [
    {
     "data": {
      "text/plain": [
       "(11, 7)"
      ]
     },
     "execution_count": 16,
     "metadata": {},
     "output_type": "execute_result"
    }
   ],
   "source": [
    "SAN_H[SAN_H['Diff'] > 0].shape"
   ]
  },
  {
   "cell_type": "code",
   "execution_count": 17,
   "metadata": {},
   "outputs": [
    {
     "data": {
      "text/plain": [
       "(5, 7)"
      ]
     },
     "execution_count": 17,
     "metadata": {},
     "output_type": "execute_result"
    }
   ],
   "source": [
    "SAN_V[SAN_V['Diff'] > 0].shape"
   ]
  },
  {
   "cell_type": "markdown",
   "metadata": {},
   "source": [
    "According to the result, we know that SAN Antonio Spurs won **16** games in total, and he won **11** games when he was at home while he only won **5** games when the Spurs team played as a visitor. "
   ]
  },
  {
   "cell_type": "markdown",
   "metadata": {},
   "source": [
    "### 3. The maximum score that the Spurs won in playoffs"
   ]
  },
  {
   "cell_type": "code",
   "execution_count": 18,
   "metadata": {},
   "outputs": [
    {
     "data": {
      "text/html": [
       "<div>\n",
       "<table border=\"1\" class=\"dataframe\">\n",
       "  <thead>\n",
       "    <tr style=\"text-align: right;\">\n",
       "      <th></th>\n",
       "      <th>Date</th>\n",
       "      <th>Start (ET)</th>\n",
       "      <th>Visitor/Neutral</th>\n",
       "      <th>PTS</th>\n",
       "      <th>Home/Neutral</th>\n",
       "      <th>PTS.1</th>\n",
       "      <th>Diff</th>\n",
       "    </tr>\n",
       "  </thead>\n",
       "  <tbody>\n",
       "    <tr>\n",
       "      <th>1291</th>\n",
       "      <td>Sat May 10 2014</td>\n",
       "      <td>10:30 pm</td>\n",
       "      <td>San Antonio Spurs</td>\n",
       "      <td>118</td>\n",
       "      <td>Portland Trail Blazers</td>\n",
       "      <td>103</td>\n",
       "      <td>15</td>\n",
       "    </tr>\n",
       "  </tbody>\n",
       "</table>\n",
       "</div>"
      ],
      "text/plain": [
       "                 Date Start (ET)    Visitor/Neutral  PTS  \\\n",
       "1291  Sat May 10 2014   10:30 pm  San Antonio Spurs  118   \n",
       "\n",
       "                Home/Neutral  PTS.1  Diff  \n",
       "1291  Portland Trail Blazers    103    15  "
      ]
     },
     "execution_count": 18,
     "metadata": {},
     "output_type": "execute_result"
    }
   ],
   "source": [
    "SAN_V[SAN_V['PTS'] == SAN_V['PTS'].max()]"
   ]
  },
  {
   "cell_type": "code",
   "execution_count": 19,
   "metadata": {},
   "outputs": [
    {
     "data": {
      "text/html": [
       "<div>\n",
       "<table border=\"1\" class=\"dataframe\">\n",
       "  <thead>\n",
       "    <tr style=\"text-align: right;\">\n",
       "      <th></th>\n",
       "      <th>Date</th>\n",
       "      <th>Start (ET)</th>\n",
       "      <th>Visitor/Neutral</th>\n",
       "      <th>PTS</th>\n",
       "      <th>Home/Neutral</th>\n",
       "      <th>PTS.1</th>\n",
       "      <th>Diff</th>\n",
       "    </tr>\n",
       "  </thead>\n",
       "  <tbody>\n",
       "    <tr>\n",
       "      <th>1303</th>\n",
       "      <td>Mon May 19 2014</td>\n",
       "      <td>9:00 pm</td>\n",
       "      <td>Oklahoma City Thunder</td>\n",
       "      <td>105</td>\n",
       "      <td>San Antonio Spurs</td>\n",
       "      <td>122</td>\n",
       "      <td>17</td>\n",
       "    </tr>\n",
       "  </tbody>\n",
       "</table>\n",
       "</div>"
      ],
      "text/plain": [
       "                 Date Start (ET)        Visitor/Neutral  PTS  \\\n",
       "1303  Mon May 19 2014    9:00 pm  Oklahoma City Thunder  105   \n",
       "\n",
       "           Home/Neutral  PTS.1  Diff  \n",
       "1303  San Antonio Spurs    122    17  "
      ]
     },
     "execution_count": 19,
     "metadata": {},
     "output_type": "execute_result"
    }
   ],
   "source": [
    "SAN_H[SAN_H['PTS.1'] == SAN_H['PTS.1'].max()]"
   ]
  },
  {
   "cell_type": "markdown",
   "metadata": {},
   "source": [
    "We can see that when the Spurs beat Blazers as a visitor he got the maximum points 118 and he got the maximum points 122 when he played with Thunder."
   ]
  },
  {
   "cell_type": "markdown",
   "metadata": {},
   "source": [
    "### 4. The  **Home Advantage** of the Spurs in the whole season"
   ]
  },
  {
   "cell_type": "markdown",
   "metadata": {},
   "source": [
    "Since in regular season, the Spurs ranked top one in the western conference, he had more games that paly at home. We need to analyze whether the Spurs has home advantage to determine whther this phenomenon is beneficial for the Spurs to win the whole season."
   ]
  },
  {
   "cell_type": "code",
   "execution_count": 20,
   "metadata": {},
   "outputs": [
    {
     "data": {
      "image/png": "[encoded data removed]",
      "text/plain": [
       "<matplotlib.figure.Figure at 0x117f919b0>"
      ]
     },
     "metadata": {
      "needs_background": "light"
     },
     "output_type": "display_data"
    }
   ],
   "source": [
    "Visitor=data[data['Visitor/Neutral'] == 'San Antonio Spurs']\n",
    "Home=data[data['Home/Neutral'] == 'San Antonio Spurs']\n",
    "Visitor=Visitor.copy()\n",
    "Home=Home.copy()\n",
    "Visitor['Diff'] = Visitor.apply(lambda row : row['PTS'] - row['PTS.1'],axis=1)\n",
    "Home['Diff'] = Home.apply(lambda row : row['PTS.1'] - row['PTS'],axis=1)\n",
    "\n",
    "plt.subplot(2,1,1)\n",
    "Visitor['Diff'].plot(kind='bar',color='k',alpha=0.5,figsize=(15,10),title='Spurs_Vistor')\n",
    "plt.subplot(2,1,2)\n",
    "Home['Diff'].plot(kind='bar',color='g',alpha=0.5,figsize=(15,10),title='Spurs_Home')\n",
    "plt.tight_layout()"
   ]
  },
  {
   "cell_type": "code",
   "execution_count": 21,
   "metadata": {},
   "outputs": [
    {
     "data": {
      "text/plain": [
       "(35, 10)"
      ]
     },
     "execution_count": 21,
     "metadata": {},
     "output_type": "execute_result"
    }
   ],
   "source": [
    "Visitor[Visitor['Diff'] > 0].shape"
   ]
  },
  {
   "cell_type": "code",
   "execution_count": 22,
   "metadata": {},
   "outputs": [
    {
     "data": {
      "text/plain": [
       "(43, 10)"
      ]
     },
     "execution_count": 22,
     "metadata": {},
     "output_type": "execute_result"
    }
   ],
   "source": [
    "Home[Home['Diff'] > 0].shape"
   ]
  },
  {
   "cell_type": "markdown",
   "metadata": {},
   "source": [
    "According to the result, we know that SAN Antonio Spurs won **78** games in total, and he won **35** games when he was at home while he only won **28** games when the Spurs team played as a visitor. From the bar chart, we can also see that the Spurs win more games at homw than that play as a visitor.\n",
    "\n",
    "Overall, the Spurs really has **home advantage**."
   ]
  },
  {
   "cell_type": "markdown",
   "metadata": {},
   "source": [
    "### 5.  The Finals of 2013~2014 NBA season"
   ]
  },
  {
   "cell_type": "markdown",
   "metadata": {},
   "source": [
    " We draw a bar plot of the total number of games that all teams played in playoffs."
   ]
  },
  {
   "cell_type": "code",
   "execution_count": 21,
   "metadata": {},
   "outputs": [
    {
     "data": {
      "text/plain": [
       "<matplotlib.axes._subplots.AxesSubplot at 0x10e3519e8>"
      ]
     },
     "execution_count": 21,
     "metadata": {},
     "output_type": "execute_result"
    },
    {
     "data": {
      "image/png": "[encoded data removed]",
      "text/plain": [
       "<matplotlib.figure.Figure at 0x111801dd8>"
      ]
     },
     "metadata": {},
     "output_type": "display_data"
    }
   ],
   "source": [
    "Playoffs.groupby('Home/Neutral')['PTS'].nunique().plot(kind='pie',figsize=(7,6))"
   ]
  },
  {
   "cell_type": "code",
   "execution_count": 22,
   "metadata": {},
   "outputs": [
    {
     "data": {
      "text/plain": [
       "<matplotlib.axes._subplots.AxesSubplot at 0x11182a400>"
      ]
     },
     "execution_count": 22,
     "metadata": {},
     "output_type": "execute_result"
    },
    {
     "data": {
      "image/png": "[encoded data removed]",
      "text/plain": [
       "<matplotlib.figure.Figure at 0x111bd22b0>"
      ]
     },
     "metadata": {},
     "output_type": "display_data"
    }
   ],
   "source": [
    "Playoffs.groupby('Visitor/Neutral')['PTS.1'].nunique().plot(kind='pie',figsize=(7,6))"
   ]
  },
  {
   "cell_type": "markdown",
   "metadata": {},
   "source": [
    "We select the finals between San Antonio Spurs and Miami Heat and make a plot of the points that they got every game. They beat five games in total."
   ]
  },
  {
   "cell_type": "code",
   "execution_count": 23,
   "metadata": {},
   "outputs": [
    {
     "data": {
      "text/html": [
       "<div>\n",
       "<table border=\"1\" class=\"dataframe\">\n",
       "  <thead>\n",
       "    <tr style=\"text-align: right;\">\n",
       "      <th></th>\n",
       "      <th>Date</th>\n",
       "      <th>Start (ET)</th>\n",
       "      <th>Visitor/Neutral</th>\n",
       "      <th>PTS</th>\n",
       "      <th>Home/Neutral</th>\n",
       "      <th>PTS.1</th>\n",
       "      <th>x</th>\n",
       "      <th>y</th>\n",
       "      <th>Notes</th>\n",
       "    </tr>\n",
       "  </thead>\n",
       "  <tbody>\n",
       "    <tr>\n",
       "      <th>1314</th>\n",
       "      <td>Thu Jun 5 2014</td>\n",
       "      <td>9:00 pm</td>\n",
       "      <td>Miami Heat</td>\n",
       "      <td>95</td>\n",
       "      <td>San Antonio Spurs</td>\n",
       "      <td>110</td>\n",
       "      <td>Box Score</td>\n",
       "      <td>NaN</td>\n",
       "      <td>NaN</td>\n",
       "    </tr>\n",
       "    <tr>\n",
       "      <th>1315</th>\n",
       "      <td>Sun Jun 8 2014</td>\n",
       "      <td>8:00 pm</td>\n",
       "      <td>Miami Heat</td>\n",
       "      <td>98</td>\n",
       "      <td>San Antonio Spurs</td>\n",
       "      <td>96</td>\n",
       "      <td>Box Score</td>\n",
       "      <td>NaN</td>\n",
       "      <td>NaN</td>\n",
       "    </tr>\n",
       "    <tr>\n",
       "      <th>1316</th>\n",
       "      <td>Tue Jun 10 2014</td>\n",
       "      <td>9:00 pm</td>\n",
       "      <td>San Antonio Spurs</td>\n",
       "      <td>111</td>\n",
       "      <td>Miami Heat</td>\n",
       "      <td>92</td>\n",
       "      <td>Box Score</td>\n",
       "      <td>NaN</td>\n",
       "      <td>NaN</td>\n",
       "    </tr>\n",
       "    <tr>\n",
       "      <th>1317</th>\n",
       "      <td>Thu Jun 12 2014</td>\n",
       "      <td>9:00 pm</td>\n",
       "      <td>San Antonio Spurs</td>\n",
       "      <td>107</td>\n",
       "      <td>Miami Heat</td>\n",
       "      <td>86</td>\n",
       "      <td>Box Score</td>\n",
       "      <td>NaN</td>\n",
       "      <td>NaN</td>\n",
       "    </tr>\n",
       "    <tr>\n",
       "      <th>1318</th>\n",
       "      <td>Sun Jun 15 2014</td>\n",
       "      <td>8:00 pm</td>\n",
       "      <td>Miami Heat</td>\n",
       "      <td>87</td>\n",
       "      <td>San Antonio Spurs</td>\n",
       "      <td>104</td>\n",
       "      <td>Box Score</td>\n",
       "      <td>NaN</td>\n",
       "      <td>NaN</td>\n",
       "    </tr>\n",
       "  </tbody>\n",
       "</table>\n",
       "</div>"
      ],
      "text/plain": [
       "                 Date Start (ET)    Visitor/Neutral  PTS       Home/Neutral  \\\n",
       "1314   Thu Jun 5 2014    9:00 pm         Miami Heat   95  San Antonio Spurs   \n",
       "1315   Sun Jun 8 2014    8:00 pm         Miami Heat   98  San Antonio Spurs   \n",
       "1316  Tue Jun 10 2014    9:00 pm  San Antonio Spurs  111         Miami Heat   \n",
       "1317  Thu Jun 12 2014    9:00 pm  San Antonio Spurs  107         Miami Heat   \n",
       "1318  Sun Jun 15 2014    8:00 pm         Miami Heat   87  San Antonio Spurs   \n",
       "\n",
       "      PTS.1          x    y Notes  \n",
       "1314    110  Box Score  NaN   NaN  \n",
       "1315     96  Box Score  NaN   NaN  \n",
       "1316     92  Box Score  NaN   NaN  \n",
       "1317     86  Box Score  NaN   NaN  \n",
       "1318    104  Box Score  NaN   NaN  "
      ]
     },
     "execution_count": 23,
     "metadata": {},
     "output_type": "execute_result"
    }
   ],
   "source": [
    "Finals=data[1314:1320]\n",
    "Finals"
   ]
  },
  {
   "cell_type": "code",
   "execution_count": 24,
   "metadata": {},
   "outputs": [
    {
     "data": {
      "text/plain": [
       "<matplotlib.axes._subplots.AxesSubplot at 0x11230f978>"
      ]
     },
     "execution_count": 24,
     "metadata": {},
     "output_type": "execute_result"
    },
    {
     "data": {
      "image/png": "[encoded data removed]",
      "text/plain": [
       "<matplotlib.figure.Figure at 0x112312198>"
      ]
     },
     "metadata": {},
     "output_type": "display_data"
    }
   ],
   "source": [
    "win1=Finals[Finals['Visitor/Neutral'] == 'San Antonio Spurs']['PTS']\n",
    "win2=Finals[Finals['Home/Neutral'] == 'San Antonio Spurs']['PTS.1']\n",
    "win_pts = pd.concat([win1,win2])\n",
    "heat1=Finals[Finals['Visitor/Neutral'] == 'Miami Heat']['PTS']\n",
    "heat2=Finals[Finals['Home/Neutral'] == 'Miami Heat']['PTS.1']\n",
    "heat_pts = pd.concat([heat1,heat2])\n",
    "finals=pd.concat([win_pts,heat_pts],axis=1)\n",
    "finals.columns = ['Spurs','Heat']\n",
    "finals.plot(title='The Plot of Finals',kind='bar')"
   ]
  },
  {
   "cell_type": "markdown",
   "metadata": {},
   "source": [
    "From the plot, we can see that the Spurs 4:1  won the champion at home, which is AT&T Center."
   ]
  },
  {
   "cell_type": "markdown",
   "metadata": {},
   "source": [
    "### 6. Spurs Won the Champion."
   ]
  },
  {
   "cell_type": "markdown",
   "metadata": {},
   "source": [
    "In 2013~2014 NBA finals, in the 5th game, SAN Antonio Spurs won the champion! It was the fifth time that the Spurs win the chanmpion since the Big Three is formed. Let's look back to the Spurs' winning process. It is one of the most brilliant time of this team.They won the championship!![championship](http://en.africatopsports.com/wp-content/uploads/2014/06/san-antonio-spurs_champion-nba-2014.jpg)"
   ]
  },
  {
   "cell_type": "code",
   "execution_count": 25,
   "metadata": {},
   "outputs": [
    {
     "data": {
      "image/jpeg": "[encoded data removed]",
      "text/html": [
       "\n",
       "        <iframe\n",
       "            width=\"400\"\n",
       "            height=\"300\"\n",
       "            src=\"https://www.youtube.com/embed/7bckeFYPj-o\"\n",
       "            frameborder=\"0\"\n",
       "            allowfullscreen\n",
       "        ></iframe>\n",
       "        "
      ],
      "text/plain": [
       "<IPython.lib.display.YouTubeVideo at 0x1123290b8>"
      ]
     },
     "execution_count": 25,
     "metadata": {},
     "output_type": "execute_result"
    }
   ],
   "source": [
    "from IPython.display import YouTubeVideo\n",
    "YouTubeVideo(\"7bckeFYPj-o\")"
   ]
  },
  {
   "cell_type": "markdown",
   "metadata": {
    "collapsed": true
   },
   "source": [
    "From the SAN Antonio Spurs, we can learn that, if we have a dream, never give up."
   ]
  },
  {
   "cell_type": "code",
   "execution_count": null,
   "metadata": {
    "collapsed": true
   },
   "outputs": [],
   "source": []
  }
 ],
 "metadata": {
  "kernelspec": {
   "display_name": "Python 3",
   "language": "python",
   "name": "python3"
  },
  "language_info": {
   "codemirror_mode": {
    "name": "ipython",
    "version": 3
   },
   "file_extension": ".py",
   "mimetype": "text/x-python",
   "name": "python",
   "nbconvert_exporter": "python",
   "pygments_lexer": "ipython3",
   "version": "3.6.8"
  }
 },
 "nbformat": 4,
 "nbformat_minor": 2
}
